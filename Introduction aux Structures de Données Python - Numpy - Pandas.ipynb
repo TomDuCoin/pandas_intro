{
 "cells": [
  {
   "cell_type": "markdown",
   "id": "fc25ab63",
   "metadata": {},
   "source": [
    "# <center>**Introductions aux Structures d'Analyse de Données**</center>\n",
    "## <center>***Python ~ NumPy ~ Pandas***</center>\n",
    "\n"
   ]
  },
  {
   "cell_type": "markdown",
   "id": "6085c808",
   "metadata": {},
   "source": [
    "### Table of Contents\n",
    "\n",
    "* [Python & l'Analyse de Données](#chapter1)\n",
    "    * [L'Analyse de Données](#section1_1)\n",
    "    * [L'Intérêt de Python](#section1_2)\n",
    "* [Les Structures Natives de Python](#chapter2)\n",
    "    * [Les Tuples](#section2_1)\n",
    "    * [Les Listes](#section2_2)\n",
    "    * [Les Dictionnaires](#section2_3)\n",
    "    * [Les Ensembles](#section2_4)\n",
    "* [*NumPy*](#chapter3)\n",
    "    * [*ndarray* : Les Objets Multidimentionnels](#section3_1)\n",
    "    * [Les Fonctions Universelles Numpy](#section3_2)\n",
    "    * [Programmation orientée tableaux](#section3_3)\n",
    "* [Introduction aux Structures *Pandas*](#chapter4)\n",
    "    * [Les Séries](#section4_1)\n",
    "    * [Les DataFrame(s)](#section4_2)\n",
    "    * [Fonctionnalités principales](#section4_3)\n",
    "* [Bibliographie](#chapter6)\n"
   ]
  },
  {
   "cell_type": "markdown",
   "id": "1dd31933",
   "metadata": {},
   "source": [
    "<a class=\"anchor\" id=\"chapter1\"></a>\n",
    "### I - **Python & l'Analyse de Données**"
   ]
  },
  {
   "cell_type": "markdown",
   "id": "a81cc040",
   "metadata": {},
   "source": [
    "<a class=\"anchor\" id=\"section1_1\"></a>\n",
    "#### I.a - **L'Analyse de Données**\n",
    "\n",
    "L'objectif de l'analyse de données a pour objectif de traiter des donnnées brutes afin de trouver rapidement et clairement des informations.\n",
    "\n",
    "\n",
    "<i><center>Chaque seconde, 29.000Go d'informations sont publiées dans le monde.</center></i>\n",
    "\n",
    "La manipulation et l'organisation de ces informations est un enjeu essentiel à l'essor de l'informatique et nous voulons faire une introduction à cette discipline aujourdhui.\n",
    "\n",
    "<a class=\"anchor\" id=\"section1_2\"></a>\n",
    "#### I.b - **L'Intérêt de Python**\n",
    "\n",
    "Python est un langage interprété qui s'est démarqué depuis son apparition en 1991 sur 2 domaines :\n",
    "\n",
    "- La constructions de sites webs, grâce à ses nombreux frameworks (Django pour n'en citer qu'un).\n",
    "- L'analyse de donnée grâce à la création de bibliothèques de gestion de données très rapides (NumPy, Pandas, Scikitlearn, ...).\n",
    "\n",
    "En l'occurence, ces dernières permettent de manipuler plusieurs sortes de jeux de données :\n",
    "\n",
    "- Des données tabulaires (données stockées dans des bases de données ou des .csv)\n",
    "- Des tableaux multidimentionnels\n",
    "- Des dictionnaires\n",
    "- Des séries chronologiques\n",
    "- A peu près n'importe quelle structure de données complexes & organisables\n"
   ]
  },
  {
   "cell_type": "markdown",
   "id": "dc10dbad",
   "metadata": {},
   "source": [
    "<a class=\"anchor\" id=\"chapter2\"></a>\n",
    "### II - **Les Structures Natives de Python**\n",
    "\n",
    "Dans cette partie, nous allons faire un rappel rapide sur les structures de données déjà présentes nativement sur Python avant de nous intéresser à celles proposées par les bibliothèques NumPy & Pandas."
   ]
  },
  {
   "cell_type": "markdown",
   "id": "1bba64ad",
   "metadata": {},
   "source": [
    "<a class=\"anchor\" id=\"section2_1\"></a>\n",
    "#### II.a - **Les Tuples**\n",
    "\n",
    "Les tuples sont des structures qui permettent de stocker *des collections ordonnées de plusieurs éléments*. Le type de ces éléments peut varier mais la tille et l'organisation interne du tuple est invariable.\n",
    "\n",
    "```\n",
    "tuple0 = (1, 'a')\n",
    "tuple1 = (1, [2, 4, 6], \"hello\", 7.1)\n",
    "```"
   ]
  },
  {
   "cell_type": "markdown",
   "id": "71f4af32",
   "metadata": {},
   "source": [
    "<a class=\"anchor\" id=\"section2_2\"></a>\n",
    "#### II.b - **Les Listes**\n",
    "\n",
    "Les listes, au contraire, ont des longueurs variables. Elles permettent de générer des itérateurs et possèdent un jeu important de méthodes associées.\n",
    "\n",
    "```\n",
    "tab = [0, 2, True, \"hello\", 7.1]\n",
    "```"
   ]
  },
  {
   "cell_type": "markdown",
   "id": "744935d9",
   "metadata": {},
   "source": [
    "<a class=\"anchor\" id=\"section2_3\"></a>\n",
    "#### II.c - **Les Dictionnaires**\n",
    "\n",
    "Le dictionnaire est une structure de collection de paires *clé-valeur*, ce qui permet d'organiser qualitativement les données associées.\n",
    "\n",
    "```\n",
    "dic = { 'a':\"valeur\",\n",
    "        'b': 1,\n",
    "        'c': [1, 2, 3]  }        \n",
    "```"
   ]
  },
  {
   "cell_type": "markdown",
   "id": "cec6e5d7",
   "metadata": {},
   "source": [
    "<a class=\"anchor\" id=\"section2_4\"></a>\n",
    "#### II.d - **Les Ensembles**\n",
    "\n",
    "Les ensembles sont des collections de données **uniques**. Ces données ne sont pas organisées mais ne peuvent pas se répeter, ainsi on  peut définir un jeu de valeurs attendues par exemple, de la manière la plus succincte possible.\n",
    "\n",
    "```\n",
    "ens = {1, 7, 10, 'a'}\n",
    "```"
   ]
  },
  {
   "cell_type": "markdown",
   "id": "e50e1904",
   "metadata": {},
   "source": [
    "<a class=\"anchor\" id=\"chapter3\"></a>\n",
    "### III - ***NumPy***\n",
    "\n",
    "NumPy ou Numerical Python est un package très important de Python. Il fournit entre autre :\n",
    "\n",
    "- *ndarray* : un tableau multidimentionnel optimisé dans les opérations arythmétiques\n",
    "- Des fonctions mathématiques & des opérations sur tableaux optimisées\n",
    "\n",
    "```\n",
    "import numpy as np\n",
    "```"
   ]
  },
  {
   "cell_type": "code",
   "execution_count": null,
   "id": "18c905f2",
   "metadata": {},
   "outputs": [],
   "source": [
    "import numpy as np"
   ]
  },
  {
   "cell_type": "markdown",
   "id": "9c191263",
   "metadata": {},
   "source": [
    "<a class=\"anchor\" id=\"section3_1\"></a>\n",
    "#### III.a - ***ndarray* : Les Objets Multidimentionnels**\n",
    "\n",
    "\n",
    "*Multidimentionnel* signifie que ndarray est optimisé pour créer et manipuler des tableaux de N-Dimensions.\n",
    "Les données contenues dans ndarray doivent être d'un type homogène cependant, l'intérêt de NumPy est principalement de gérer des jeux de données très important ce qui permet de faire des opérations sur des blocs entiers en un rien de temps.\n",
    "\n",
    "```\n",
    "data = [[1, 2, 3], [1, 2, 3]]\n",
    "arr0 = np.array(data)\n",
    "\n",
    "arr1 = np.arrange(10)\n",
    "\n",
    "arr2 = np.zeros((2, 3))\n",
    "arr3 = np.empty((2, 3, 2))\n",
    "```"
   ]
  },
  {
   "cell_type": "code",
   "execution_count": null,
   "id": "a17cc1be",
   "metadata": {},
   "outputs": [],
   "source": [
    "\"\"\"\n",
    "EXERCICE - Créer une ndarray :\n",
    "\n",
    "Sans utiliser de boucles 'while' ou 'for'\n",
    "\n",
    "->  Créez une ndarray \"arr0\" de dimension 1 où :\n",
    "    - contient 60 éléments\n",
    "    - tous les éléments sont des floats\n",
    "    - tous les éléments sont égaux à (arr[i] = 2 * i)\n",
    "\n",
    "->  Créez une ndarray \"arr1\" en 2 dimensions avec :\n",
    "    - 4 colonnes\n",
    "    - 9 lignes\n",
    "    - tous les éléments égaux à (float) 0.\n",
    "\n",
    "->  Créez une ndarray \"arr2\" de dimension 5 où :\n",
    "    - toutes les dimensions sont longues de 5 éléments\n",
    "    - tous les éléments sont égaux à 1.\n",
    "    \n",
    "    /!\\ Exécutez l'import de numpy (ci-dessus) avant de tester vos réponses.\n",
    "\"\"\"\n",
    "\n",
    "arr0 = \n",
    "\n",
    "arr1 =\n",
    "\n",
    "arr2 ="
   ]
  },
  {
   "cell_type": "markdown",
   "id": "66a93a7b",
   "metadata": {},
   "source": [
    "<a class=\"anchor\" id=\"section3_2\"></a>\n",
    "#### III.b - **Les Fonctions Universelles Numpy**\n",
    "\n",
    "Les fonctions universelles ou *ufunc* permettent de faire des opérations mathématihiques élément par élément sur des tableaux ndarray.\n",
    "\n",
    "Le but est toujours d'optimiser le temps de calcul sur des tableaux.\n",
    "On appelle ces opérations qui ne nécéssitent pas de boucle une *vectorisation*. Généralement on considère que ces opérations sont plus rapides de 2 ordres de grandeur.\n",
    "\n",
    "Numpy propose 2 types de fonctions universelles : \n",
    "- les fonctions unaires qui font des opérations sur tous les éléments d'une array \n",
    "- les fonctions binaires qui font des opérations d'une array sur l'autre\n",
    "\n",
    "\n",
    "```\n",
    "np.ufunc(arr1)\n",
    "np.ufunc(arr1, arr2)\n",
    "```"
   ]
  },
  {
   "cell_type": "code",
   "execution_count": null,
   "id": "a267dddb",
   "metadata": {},
   "outputs": [],
   "source": [
    "\"\"\"\n",
    "EXERCICE - Sélectionner un bloc dans une ndarray :\n",
    "\n",
    "-> Modifiez toutes les valeurs de arr1 de la ligne d'index 3 à la ligne d'index 6, de 0 à 1.\n",
    "\n",
    "-> Modifiez toutes les valeurs de arr1 des colonnes d'index 0 & 1, de 0 à 1.\n",
    "\n",
    "-> Modifiez les valeurs de arr1 des lignes 7 à 9 aux colonnes 3 & 4, de 0 à 1.\n",
    "\"\"\""
   ]
  },
  {
   "cell_type": "code",
   "execution_count": null,
   "id": "7c9b2cb5",
   "metadata": {},
   "outputs": [],
   "source": [
    "\"\"\"\n",
    "EXERCICE - Redimensionner une ndarray :\n",
    "\n",
    "-> Redimensionnez l'array arr0 en une array 2D de forme (4 * 15) (4 lignes, 15 colonnes)\n",
    "\"\"\""
   ]
  },
  {
   "cell_type": "code",
   "execution_count": null,
   "id": "866e3292",
   "metadata": {},
   "outputs": [],
   "source": [
    "\"\"\"\n",
    "EXERCICE - Utiliser des 'ufunc' unaires : \n",
    "\n",
    "-> Divisez tous les éléments de arr0 par 2.3\n",
    "\n",
    "-> Passez au carré tous les éléments de arr0\n",
    "\n",
    "-> Utilisez la fonction numpy qui permet de séparer la partie fractionnaire des éléments de arr0\n",
    "de leur partie entière et stockez ces données dans les ndarrays \"reste\" & \"entier\"\n",
    "\"\"\""
   ]
  },
  {
   "cell_type": "code",
   "execution_count": null,
   "id": "8f54fcdc",
   "metadata": {},
   "outputs": [],
   "source": [
    "\"\"\"\n",
    "EXERCICE - Utiliser des 'ufunc' binaires :\n",
    "\n",
    "\n",
    "-> Elevez les éléments de \"arr0\" à la puissance de l'élément respectif de [\"entier\" / 10]\n",
    "\n",
    "-> Créez une ndarray \"arr15\" de même dimension que \"arr0\" dont tous les éléments sont de valeur 15\n",
    "\n",
    "-> Divisez à la valeur planché \"arr0\" par \"arr15\" et stockez la ndarray dans \"arr3\"\n",
    "\n",
    "-> Stockez la valeur max des ndarray \"arr3\" & \"entier\" dans la variable \"ndmax\" \n",
    "\"\"\"\n",
    "\n",
    "arr15 =\n",
    "\n",
    "arr3 =\n",
    "\n",
    "ndmax ="
   ]
  },
  {
   "cell_type": "markdown",
   "id": "d7ba5777",
   "metadata": {},
   "source": [
    "<a class=\"anchor\" id=\"chapter4\"></a>\n",
    "### IV - **Introduction aux Structures *Pandas***\n",
    "\n",
    "En général, Pandas est utilisée en tandem avec des outils de calcul numérique comme NumPy. Sa fonction est principalement de manipuler et nettoyer des jeux de données importants et de type hétérogènes.\n",
    "\n",
    "```\n",
    "import pandas as pnd\n",
    "from pandas import Series, DataFrame\n",
    "```"
   ]
  },
  {
   "cell_type": "code",
   "execution_count": null,
   "id": "42a5eb01",
   "metadata": {},
   "outputs": [],
   "source": [
    "import pandas as pnd\n",
    "from pandas import Series, DataFrame"
   ]
  },
  {
   "cell_type": "markdown",
   "id": "519133a9",
   "metadata": {},
   "source": [
    "<a class=\"anchor\" id=\"section4_1\"></a>\n",
    "#### IV.a  - **Les Séries**\n",
    "\n",
    "Une Série est un tableau unidimensionnel qui attribue à chaque valeur un index (numérique par défaut) mais qui peut également être qualitatif à la manière d'un dictionnaire.\n",
    "\n",
    "```\n",
    "s1 = pnd.Series([12, 30, 7, 22])\n",
    "s2 = pnd.Series([4, 8, -7], index=['c', 'z', 'x'])\n",
    "```"
   ]
  },
  {
   "cell_type": "code",
   "execution_count": null,
   "id": "3e2957c1",
   "metadata": {},
   "outputs": [],
   "source": [
    "\"\"\"\n",
    "EXERCICE - Créer une Série :\n",
    "\n",
    "-> Créez une Série :\n",
    "    - nommée \"Vente du 18_01_2021\"\n",
    "    - ayant pour index [\"pomme\", \"poire\", \"pêche\"]\n",
    "    - ayant comme valeur [12, 24, 36]\n",
    "\"\"\"\n",
    "\n"
   ]
  },
  {
   "cell_type": "markdown",
   "id": "7a538d9f",
   "metadata": {},
   "source": [
    "<a class=\"anchor\" id=\"section4_2\"></a>\n",
    "#### IV.b - **Les DataFrame(s)**\n",
    "\n",
    "Un DataFrame suit le même concept. C'est un tableau rectangulaire qui organise des colonnes de types différents et attribue à chaque ligne un index ou une clé. \n",
    "\n",
    "```\n",
    "data = {\n",
    "    'fruit': ['pomme', 'citron', 'banane', 'tomate', 'pomme'],\n",
    "    'gout': ['sucré', 'acide', 'sucré', 'acide', 'acide'],\n",
    "    'couleur': ['rouge', 'jaune', 'jaune', 'rouge', 'vert'],\n",
    "    'prix': [0.30, 0.80, 0.50, 2., 0.40]                     }\n",
    "\n",
    "frame0 = pnd.DataFrame(data)\n",
    "frame1 = pnd.DataFrame(\n",
    "                    data,\n",
    "                    columns=['fruit', 'gout', 'couleur', 'prix'])\n",
    "frame1 = pnd.DataFrame(\n",
    "                    data,\n",
    "                    columns=['fruit', 'gout', 'couleur', 'prix'],\n",
    "                    index=['a','b','c', 'd', 'e'])\n",
    "```"
   ]
  },
  {
   "cell_type": "code",
   "execution_count": null,
   "id": "aee67386",
   "metadata": {},
   "outputs": [],
   "source": [
    "\"\"\"\n",
    "EXERCICE - Créer une DataFrame :\n",
    "\n",
    "-> Recréez la DataFrame \"SupermanRocks\" suivante :\n",
    "\n",
    "                      \"Tom\"               \"Bob\"               \"Lise\"                \"Omar\"\n",
    "\n",
    "    \"Batman\"   |  \"I can beat him\" | \"I like the suit\" | \"The cave is creepy\" | \"I want his car!\"\n",
    "    \"Superman\" |    \"I like him\"   |   \"Too flashy\"    |  \"I want his dog!\"   | \"I can beat him\"\n",
    "\"\"\"\n",
    "\n",
    "SupermanRocks ="
   ]
  },
  {
   "cell_type": "markdown",
   "id": "82813b8b",
   "metadata": {},
   "source": [
    "<a class=\"anchor\" id=\"section4_3\"></a>\n",
    "#### IV.c - **Fonctionnalités principales**\n",
    "\n",
    "Le but de cette partie est de comprendre les principales opérations proposées par Pandas concernant la manipulation des structures Series & DataFrame."
   ]
  },
  {
   "cell_type": "code",
   "execution_count": null,
   "id": "62f73d54",
   "metadata": {},
   "outputs": [],
   "source": [
    "\"\"\"\n",
    "EXERCICE - Importer un fichier.csv et le stocker dans une DataFrame :\n",
    "\n",
    "-> Stockez les valeurs de NZ_Death_Birth_2010-2021.csv dans un DataFrame \"nz\"\n",
    "    (Pensez à indexer si nécessaire)\n",
    "\n",
    "-> Affichez les 10 premières valeurs de la DataFrame\n",
    "\"\"\"\n",
    "\n",
    "nz = "
   ]
  },
  {
   "cell_type": "code",
   "execution_count": null,
   "id": "1c00e3ee",
   "metadata": {},
   "outputs": [],
   "source": [
    "\"\"\"\n",
    "EXERCICE - Indexation :\n",
    "\n",
    "-> Stockez la valeur du nombre de nourissons \"Infants\", garçons, en 2010 depuis le DataFrame dans \"v2010g\"\n",
    "\"\"\"\n",
    "\n",
    "v2010g = "
   ]
  },
  {
   "cell_type": "code",
   "execution_count": null,
   "id": "661fb2c5",
   "metadata": {},
   "outputs": [],
   "source": [
    "\"\"\"\n",
    "EXERCICE - ILOC & LOC :\n",
    "\n",
    "-> Stockez dans \"nzEnfants\" les 4 premières lignes de \"nz\"\n",
    "\n",
    "-> Stockez dans \"nzCount\" les colonnes d'année, de genre et de compte complètes de \"nz\"\n",
    "\n",
    "-> Stockez dans \"nzEUX\" les lignes 462 à 484 des colonnes d'année et de compte de \"nz\"\n",
    "\"\"\"\n",
    "\n",
    "nzEnfants = \n",
    "\n",
    "nzCount =\n",
    "\n",
    "nzEUX ="
   ]
  },
  {
   "cell_type": "code",
   "execution_count": null,
   "id": "e0249b3f",
   "metadata": {},
   "outputs": [],
   "source": [
    "\"\"\"\n",
    "EXERCICE - MAP & APPLY :\n",
    "\n",
    "-> Stockez dans une nouvelle colonne \"nzIsTotal\" les valeurs \"True\" ou \"False\" si l'élément la colonne \"Sexe\" de \"nz\"\n",
    "contient respectivement le mot \"Total\" ou non.\n",
    "\n",
    "-> Stockez dans la nouvelle DataFrame \"nzTotal\" exclusivement les éléments contenant le mot \"Total\"\n",
    "\n",
    "-> LES MEDIAS NOUS MENTENT!!! LA Covid-19 est en fait apparu en 2016 et a fini de décimer\n",
    "toute la population Néo-Zélandaise en 2018.\n",
    "Réparez les erreurs de l'humanité en soustrayant les tous comptes de \"nz\" de 50 (sauf les totaux)\n",
    "de 2016 à 2018 (exclu).\n",
    "Puis changez en 0 les comptes à partir de 2018 (inclu).\n",
    "\"\"\"\n",
    "\n",
    "nzTotal = "
   ]
  },
  {
   "cell_type": "markdown",
   "id": "7ad98430",
   "metadata": {},
   "source": [
    "<a class=\"anchor\" id=\"chapter6\"></a>\n",
    "### V - **Bibliographie**\n",
    "\n",
    "Ce Workshop est fortement inspiré d' *Analyse de données avec Python* de **Wes McKinney** et des documentations proposées par *numpy.org*, *pydata.org* & les cours disponibles sur *kaggle.com*. "
   ]
  }
 ],
 "metadata": {
  "kernelspec": {
   "display_name": "Python 3 (ipykernel)",
   "language": "python",
   "name": "python3"
  },
  "language_info": {
   "codemirror_mode": {
    "name": "ipython",
    "version": 3
   },
   "file_extension": ".py",
   "mimetype": "text/x-python",
   "name": "python",
   "nbconvert_exporter": "python",
   "pygments_lexer": "ipython3",
   "version": "3.8.10"
  }
 },
 "nbformat": 4,
 "nbformat_minor": 5
}
